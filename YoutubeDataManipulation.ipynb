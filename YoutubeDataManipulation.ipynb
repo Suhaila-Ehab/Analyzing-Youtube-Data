{
  "nbformat": 4,
  "nbformat_minor": 0,
  "metadata": {
    "colab": {
      "name": "YoutubeDataManipulation.ipynb",
      "provenance": [],
      "collapsed_sections": []
    },
    "kernelspec": {
      "name": "python3",
      "display_name": "Python 3"
    },
    "language_info": {
      "name": "python"
    }
  },
  "cells": [
    {
      "cell_type": "code",
      "execution_count": null,
      "metadata": {
        "id": "w_6FUga9STvB"
      },
      "outputs": [],
      "source": [
        "import pandas as pd\n",
        "from collections import Counter"
      ]
    },
    {
      "cell_type": "code",
      "source": [
        "df=pd.read_csv('/content/YoutubeDataCleaned.csv',encoding='latin-1')"
      ],
      "metadata": {
        "id": "470-Y-v2Srdg"
      },
      "execution_count": null,
      "outputs": []
    },
    {
      "cell_type": "code",
      "source": [
        "df1=pd.read_csv('/content/TagsTransposed.csv',encoding='latin-1')"
      ],
      "metadata": {
        "id": "xUvVv_GdRxCO"
      },
      "execution_count": null,
      "outputs": []
    },
    {
      "cell_type": "code",
      "source": [
        "df2=df.assign(tags=df.tags.str.split('|')).explode('tags')"
      ],
      "metadata": {
        "id": "E57Gsewi56es"
      },
      "execution_count": null,
      "outputs": []
    },
    {
      "cell_type": "code",
      "source": [
        "df3=pd.DataFrame(df.assign(words=df.tags.str.split('|')).explode('words').groupby('publish_time')['words'].value_counts())"
      ],
      "metadata": {
        "id": "iM1LIAqXsOI7"
      },
      "execution_count": null,
      "outputs": []
    },
    {
      "cell_type": "code",
      "source": [
        "df2.to_csv('/content/YoutubeDataCleaned2.csv',index=False)"
      ],
      "metadata": {
        "id": "MJixa6tP41Wd"
      },
      "execution_count": null,
      "outputs": []
    },
    {
      "cell_type": "code",
      "source": [
        "df3.to_csv('/content/YoutubeDataCleanedTagCounts.csv',index=False)"
      ],
      "metadata": {
        "id": "mcGTO_197tJH"
      },
      "execution_count": null,
      "outputs": []
    }
  ]
}